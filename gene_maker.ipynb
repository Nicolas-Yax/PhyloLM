{
 "cells": [
  {
   "cell_type": "code",
   "execution_count": 19,
   "metadata": {},
   "outputs": [],
   "source": [
    "import zstandard\n",
    "import json\n",
    "import io\n",
    "import os\n",
    "import numpy as np\n",
    "\n",
    "folder = 'gene_benchmarks'"
   ]
  },
  {
   "cell_type": "markdown",
   "metadata": {},
   "source": [
    "#### Load open-web-math test set"
   ]
  },
  {
   "cell_type": "code",
   "execution_count": 20,
   "metadata": {},
   "outputs": [],
   "source": [
    "math_objs=[]\n",
    "file_name='open-web-math.jsonl.zst'\n",
    "with open(os.path.join(folder,file_name), 'rb') as fh:\n",
    "    dctx = zstandard.ZstdDecompressor(max_window_size=2147483648)\n",
    "    stream_reader = dctx.stream_reader(fh)\n",
    "    text_stream = io.TextIOWrapper(stream_reader, encoding='utf-8')\n",
    "    for line in text_stream:\n",
    "        obj = json.loads(line)\n",
    "        math_objs.append(obj)"
   ]
  },
  {
   "cell_type": "markdown",
   "metadata": {},
   "source": [
    "#### Load MBXP test set"
   ]
  },
  {
   "cell_type": "code",
   "execution_count": 34,
   "metadata": {},
   "outputs": [],
   "source": [
    "import zstandard as zst\n",
    "import json\n",
    "import io\n",
    "import pandas as pd\n",
    "\n",
    "\n",
    "objs_ = []\n",
    "for nb in range(12):\n",
    "    fname = 'mbxp/0000('+str(nb)+').jsonl'\n",
    "    df = pd.read_json(os.path.join(folder,fname),lines=True)\n",
    "    column = df['canonical_solution'].tolist()\n",
    "    objs_+=column\n",
    "code_objs = []\n",
    "for s in objs_:\n",
    "    if s is not None and not(isinstance(s, float)):\n",
    "        code_objs.append({'text':s})"
   ]
  },
  {
   "cell_type": "markdown",
   "metadata": {},
   "source": [
    "### Sample from the choosen set"
   ]
  },
  {
   "cell_type": "code",
   "execution_count": 35,
   "metadata": {},
   "outputs": [],
   "source": [
    "import numpy as np\n",
    "nb_genes = 128 #Select number of genes\n",
    "objs = code_objs #Select the gene set to save\n",
    "ids=np.random.choice(len(objs),nb_genes,replace=False)"
   ]
  },
  {
   "cell_type": "code",
   "execution_count": 36,
   "metadata": {},
   "outputs": [],
   "source": [
    "from lanlab import Text\n",
    "for i in range(nb_genes):\n",
    "    l =np.random.randint(20,100)\n",
    "    if isinstance(objs[ids[i]]['text'],float):\n",
    "        print(objs[ids[i]]['text'] is np.nan)\n",
    "    t=Text(objs[ids[i]]['text'][:l])\n",
    "    t.save('data/kl_pop/code_example/genes/{}'.format(i))"
   ]
  }
 ],
 "metadata": {
  "kernelspec": {
   "display_name": "Python 3.7.3 ('base')",
   "language": "python",
   "name": "python3"
  },
  "language_info": {
   "codemirror_mode": {
    "name": "ipython",
    "version": 3
   },
   "file_extension": ".py",
   "mimetype": "text/x-python",
   "name": "python",
   "nbconvert_exporter": "python",
   "pygments_lexer": "ipython3",
   "version": "3.11.7"
  },
  "orig_nbformat": 4,
  "vscode": {
   "interpreter": {
    "hash": "812eebe2a6551e6686edfa30fbadf2a874e9eafd53d88484fa1f6e6b1a5bacf0"
   }
  }
 },
 "nbformat": 4,
 "nbformat_minor": 2
}
